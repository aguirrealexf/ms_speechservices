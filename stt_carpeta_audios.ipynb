{
 "cells": [
  {
   "cell_type": "code",
   "execution_count": 1,
   "metadata": {},
   "outputs": [],
   "source": [
    "import os\n",
    "import azure.cognitiveservices.speech as speechsdk\n",
    "\n",
    "from dotenv import load_dotenv, find_dotenv"
   ]
  },
  {
   "cell_type": "code",
   "execution_count": 2,
   "metadata": {},
   "outputs": [
    {
     "data": {
      "text/plain": [
       "True"
      ]
     },
     "execution_count": 2,
     "metadata": {},
     "output_type": "execute_result"
    }
   ],
   "source": [
    "# Cargamos las variables de entorno necesarias\n",
    "load_dotenv()"
   ]
  },
  {
   "cell_type": "code",
   "execution_count": 3,
   "metadata": {},
   "outputs": [],
   "source": [
    "# This example requires environment variables named \"SPEECH_KEY\" and \"SPEECH_REGION\"\n",
    "speech_config = speechsdk.SpeechConfig(subscription=os.environ.get('SPEECH_KEY'), region=os.environ.get('SPEECH_REGION'))"
   ]
  },
  {
   "cell_type": "code",
   "execution_count": 4,
   "metadata": {},
   "outputs": [],
   "source": [
    "# Definimos el idioma a utilizar\n",
    "speech_config.speech_recognition_language='es-AR'"
   ]
  },
  {
   "cell_type": "code",
   "execution_count": 5,
   "metadata": {},
   "outputs": [],
   "source": [
    "# Ruta de la carpeta que contiene los archivos de audio\n",
    "carpeta = './carpeta_audios'\n",
    "\n",
    "# Obtener la lista de archivos en la carpeta\n",
    "archivos = os.listdir(carpeta)"
   ]
  },
  {
   "cell_type": "code",
   "execution_count": 11,
   "metadata": {},
   "outputs": [
    {
     "name": "stdout",
     "output_type": "stream",
     "text": [
      "Procesando audio... \n",
      "######\n",
      "Audio: 0. Titulo: 579_alaw.wav\n",
      "Recognized: Si necesitas ser atendido por un representante, digite dos.\n",
      "######\n",
      "######\n",
      "Audio: 1. Titulo: 580_alaw.wav\n",
      "Recognized: Si sos cliente visa y te contactas por un doble monto en el resumen de tu tarjeta de crédito te informamos que no se trata de un cobro duplicado, sino que es posible haya recibido el cobro de diferentes cuotas.\n",
      "######\n",
      "######\n",
      "Audio: 2. Titulo: 581_alaw.wav\n",
      "Recognized: Si tuviste un inconveniente con el resumen de tarjeta visa digite 1.\n",
      "######\n",
      "######\n",
      "Audio: 3. Titulo: 582_alaw.wav\n",
      "Recognized: Del 1 al 5, siendo 5 el puntaje de mayor valor. ¿Cuál es el grado de satisfacción en cuanto a la atención recibida por parte del operador?\n",
      "######\n",
      "######\n",
      "Audio: 4. Titulo: 672_alaw.wav\n",
      "Recognized: En este momento nuestros representantes están atendiendo otras comunicaciones, aguarda y para ser atendido.\n",
      "######\n",
      "######\n",
      "Audio: 5. Titulo: 673_alaw.wav\n",
      "Recognized: Nuestros representantes continúan ocupados por favor aguarde en línea o vuelve a llamar en instantes.\n",
      "######\n",
      "######\n",
      "Audio: 6. Titulo: 718_alaw.wav\n",
      "Recognized: Por emergencia médica llame a nuestra línea 08004444278 por solicitud o consulta de traslados en remix digite 1 por asesoramiento en higiene y seguridad, digite dos por autogestión, digite 3 o aguarde para ser atendido.\n",
      "######\n",
      "######\n",
      "Audio: 7. Titulo: 720_alaw.wav\n",
      "Recognized: Por certificado de cobertura, digite 1 por cuenta corriente dos por consulta de prestaciones dinerarias 3 por solicitud de carátulas de contrato cuatro para volver a escuchar las opciones, digité 5 para volver al menú principal, digites 6.\n",
      "######\n",
      "######\n",
      "Audio: 8. Titulo: 777_alaw.wav\n",
      "Recognized: Por consultas o gestiones relacionadas a prevención salud, digite 1 por sancor seguros digite dos o por prevención ART digite 3.\n",
      "######\n",
      "######\n",
      "Audio: 9. Titulo: a_alaw.wav\n",
      "Recognized: Si sos cliente visa y te contactas por un doble monto en el resumen de tu tarjeta de crédito te informamos que no se trata de un cobro duplicado, sino que es posible haya recibido el cobro de diferentes cuotas.\n",
      "######\n"
     ]
    }
   ],
   "source": [
    "print(\"Procesando audio... \")\n",
    "# Iterar sobre cada archivo e imprimir su nombre\n",
    "for archivo in archivos:\n",
    "    print('######')\n",
    "    print(\"Audio: {}. Titulo: {}\".format(archivos.index(archivo), archivo))\n",
    "\n",
    "    audiofile = str(carpeta + '/' + archivo)\n",
    "    audio_config = speechsdk.AudioConfig(filename=audiofile)\n",
    "\n",
    "    speech_recognizer = speechsdk.SpeechRecognizer(speech_config=speech_config, audio_config=audio_config)\n",
    "    result = speech_recognizer.recognize_once_async().get()\n",
    "\n",
    "    if result.reason == speechsdk.ResultReason.RecognizedSpeech:\n",
    "        print(\"Recognized: {}\".format(result.text))\n",
    "    elif result.reason == speechsdk.ResultReason.NoMatch:\n",
    "        print(\"No speech could be recognized: {}\".format(result.no_match_details))\n",
    "    elif result.reason == speechsdk.ResultReason.Canceled:\n",
    "        cancellation_details = result.cancellation_details\n",
    "        print(\"Speech Recognition canceled: {}\".format(cancellation_details.reason))\n",
    "        if cancellation_details.reason == speechsdk.CancellationReason.Error:\n",
    "            print(\"Error details: {}\".format(cancellation_details.error_details))\n",
    "            print(\"Did you set the speech resource key and region values?\")\n",
    "    print('######')\n"
   ]
  },
  {
   "cell_type": "code",
   "execution_count": null,
   "metadata": {},
   "outputs": [],
   "source": []
  }
 ],
 "metadata": {
  "kernelspec": {
   "display_name": "ms_speechservices",
   "language": "python",
   "name": "python3"
  },
  "language_info": {
   "codemirror_mode": {
    "name": "ipython",
    "version": 3
   },
   "file_extension": ".py",
   "mimetype": "text/x-python",
   "name": "python",
   "nbconvert_exporter": "python",
   "pygments_lexer": "ipython3",
   "version": "3.9.16"
  },
  "orig_nbformat": 4
 },
 "nbformat": 4,
 "nbformat_minor": 2
}
