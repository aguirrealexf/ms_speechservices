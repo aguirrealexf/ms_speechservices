{
 "cells": [
  {
   "cell_type": "code",
   "execution_count": 1,
   "metadata": {},
   "outputs": [],
   "source": [
    "import os\n",
    "import azure.cognitiveservices.speech as speechsdk\n",
    "\n",
    "from dotenv import load_dotenv, find_dotenv"
   ]
  },
  {
   "cell_type": "code",
   "execution_count": 2,
   "metadata": {},
   "outputs": [
    {
     "data": {
      "text/plain": [
       "True"
      ]
     },
     "execution_count": 2,
     "metadata": {},
     "output_type": "execute_result"
    }
   ],
   "source": [
    "# Cargamos las variables de entorno necesarias\n",
    "load_dotenv()"
   ]
  },
  {
   "cell_type": "code",
   "execution_count": 3,
   "metadata": {},
   "outputs": [],
   "source": [
    "# This example requires environment variables named \"SPEECH_KEY\" and \"SPEECH_REGION\"\n",
    "speech_config = speechsdk.SpeechConfig(subscription=os.environ.get('SPEECH_KEY'), region=os.environ.get('SPEECH_REGION'))\n"
   ]
  },
  {
   "cell_type": "code",
   "execution_count": 8,
   "metadata": {},
   "outputs": [],
   "source": [
    "# Texto a procesar\n",
    "#text = 'Del 1 al 5, siendo 5 el puntaje de mayor valor: ¿Cuál es el grado de satisfacción en cuanto a la atención recibida por parte del operador?'\n",
    "#text = 'Si tuviste un inconveniente con el resumen de tarjeta VISA, digite 1. Por otras consultas, digite 2'\n",
    "#text = '''Si sós cliente VISA y te contactás por un doble monto en el resumen de tu tarjeta de crédito, te informamos que no se trata de un cobro duplicado, sino que es posible hayas recibido el cobro de diferentes cuotas. Podés revisar esta situación directamente en el resumen que recibiste, teniendo en cuenta la fecha de cierre anterior y la actual.'''\n",
    "#text = 'Si necesitás ser atendido por un representante, digite 2'\n",
    "#text = 'Por saldos de sus pólizas, digite 1. Por otras consultas, digite 2. Para volver a escuchar las opciones, digite 3. O aguarde para ser atendido. '\n",
    "text = 'Por siniestros de: Todo Riesgo Operativo, Seguro Técnico o Responsabilidad Civil, digite 1. Por otros ramos, digite 2.'\n",
    "\n",
    "\n",
    "# Nombre del archivo\n",
    "file_name = '575_alaw'"
   ]
  },
  {
   "cell_type": "code",
   "execution_count": 5,
   "metadata": {},
   "outputs": [],
   "source": [
    "# The language of the voice that speaks.\n",
    "speech_config.speech_synthesis_voice_name='es-AR-ElenaNeural'\n",
    "speech_config.set_speech_synthesis_output_format(speechsdk.SpeechSynthesisOutputFormat.Riff8Khz8BitMonoALaw)\n",
    "#audio_config = speechsdk.audio.AudioOutputConfig(filename=\"./{}.wav\".format(file_name))\n",
    "\n",
    "speech_synthesizer = speechsdk.SpeechSynthesizer(speech_config=speech_config, audio_config=None)\n"
   ]
  },
  {
   "cell_type": "code",
   "execution_count": 9,
   "metadata": {},
   "outputs": [
    {
     "name": "stdout",
     "output_type": "stream",
     "text": [
      "Procesando texto... \n",
      "Exito. Se proceso el texto: [Por siniestros de: Todo Riesgo Operativo, Seguro Técnico o Responsabilidad Civil, digite 1. Por otros ramos, digite 2.]\n"
     ]
    }
   ],
   "source": [
    "# Get text from the console and synthesize to the default speaker.\n",
    "print(\"Procesando texto... \")\n",
    "\n",
    "bit_result = speech_synthesizer.speak_text_async(text).get()\n",
    "\n",
    "if bit_result.reason == speechsdk.ResultReason.SynthesizingAudioCompleted:\n",
    "    print(\"Exito. Se proceso el texto: [{}]\".format(text))\n",
    "elif bit_result.reason == speechsdk.ResultReason.Canceled:\n",
    "    cancellation_details = bit_result.cancellation_details\n",
    "    print(\"Speech synthesis canceled: {}\".format(cancellation_details.reason))\n",
    "    if cancellation_details.reason == speechsdk.CancellationReason.Error:\n",
    "        if cancellation_details.error_details:\n",
    "            print(\"Error details: {}\".format(cancellation_details.error_details))\n",
    "            print(\"Did you set the speech resource key and region values?\")"
   ]
  },
  {
   "cell_type": "code",
   "execution_count": 10,
   "metadata": {},
   "outputs": [],
   "source": [
    "# Transformo el string de bits, y lo guardo en un rachivo de audio\n",
    "\n",
    "stream = speechsdk.AudioDataStream(bit_result)\n",
    "stream.save_to_wav_file('./{}.wav'.format(file_name))"
   ]
  },
  {
   "cell_type": "code",
   "execution_count": null,
   "metadata": {},
   "outputs": [],
   "source": []
  }
 ],
 "metadata": {
  "kernelspec": {
   "display_name": "ms_speechservices",
   "language": "python",
   "name": "python3"
  },
  "language_info": {
   "codemirror_mode": {
    "name": "ipython",
    "version": 3
   },
   "file_extension": ".py",
   "mimetype": "text/x-python",
   "name": "python",
   "nbconvert_exporter": "python",
   "pygments_lexer": "ipython3",
   "version": "3.9.16"
  },
  "orig_nbformat": 4
 },
 "nbformat": 4,
 "nbformat_minor": 2
}
